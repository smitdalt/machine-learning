{
 "cells": [
  {
   "cell_type": "markdown",
   "metadata": {},
   "source": [
    "# Introduction to Machine Learning with SciKit Learn\n",
    "\n",
    "**Machine Learning**\n",
    "\n",
    "Jay Urbain, PhD\n",
    "\n",
    "References:\n",
    "\n",
    "- [scikit-learn](http://scikit-learn.org/stable/)"
   ]
  },
  {
   "cell_type": "markdown",
   "metadata": {},
   "source": [
    "### SciKit Learn\n",
    "We will be using [SciKit Learn](http://scikit-learn.org/stable/) and related Python libraries for developing several machine learning applications.\n",
    "\n",
    "Scikit-learn provides a range of supervised and unsupervised learning algorithms in Python. \n",
    "\n",
    "The library is built on the SciPy (Scientific Python) library that must be installed before you can use scikit-learn. In addition, we will be using a number of additional libraries. All of these libraries are included with your Anaconda installation. The libraries are:\n",
    "\n",
    "- **NumPy**: Base n-dimensional array package\n",
    "- **SciPy**: Fundamental library for scientific computing\n",
    "- **Matplotlib**: Comprehensive 2D/3D plotting\n",
    "- **IPython**: Enhanced interactive console\n",
    "- **Sympy**: Symbolic mathematics\n",
    "- **Pandas**: Data structures and analysis\n",
    "\n",
    "*Note: Although the interface is Python, c-libraries are leveraged for performance such as numpy for arrays and matrix operations, LAPACK, LibSVM and the careful use of cython.*\n",
    "\n",
    "------------"
   ]
  },
  {
   "cell_type": "markdown",
   "metadata": {},
   "source": [
    "### Groups of machine learning models provided by scikit-learn include:\n",
    "- **Clustering**: for grouping unlabeled data such as KMeans.\n",
    "- **Cross Validation**: for estimating the performance of supervised models on unseen data.\n",
    "- **Datasets**: for test data sets and for generating data sets with specific properties for investigating model behavior.\n",
    "- **Dimensionality Reduction**: for reducing the number of attributes in data for\n",
    "summarization, visualization and feature selection.\n",
    "- **Ensemble methods**: for combining the predictions of multiple supervised models.\n",
    "- **Feature extraction**: for defining attributes in image and text data.\n",
    "- **Feature selection**: for identifying meaningful attributes from which to create supervised\n",
    "models.\n",
    "- **Parameter Tuning**: for getting the most out of supervised models.\n",
    "- **Manifold Learning**: for summarizing and depicting complex multi-dimensional data.\n",
    "- **Supervised Models**: a vast array of supervised models including generalized linear models, discriminant analysis, naive bayes, lazy methods, neural networks, support vector machines and decision trees."
   ]
  },
  {
   "cell_type": "markdown",
   "metadata": {},
   "source": [
    "### SciKit Learn Example Datasets\n",
    "\n",
    "The *scikit-learn* library is packaged with five datasets. These datasets are useful for getting \n",
    "a handle on a given machine learning algorithm or library feature before using it in your own work.\n",
    "The code snipet below demonstrates how to load each of the five pre-packaged datasets. "
   ]
  },
  {
   "cell_type": "code",
   "execution_count": 3,
   "metadata": {},
   "outputs": [
    {
     "name": "stdout",
     "output_type": "stream",
     "text": [
      "<class 'sklearn.datasets.base.Bunch'>\n",
      "(506, 13)\n",
      "(150, 4)\n",
      "(442, 10)\n",
      "(1797, 64)\n",
      "(20, 3)\n"
     ]
    }
   ],
   "source": [
    "#Load the packaged datasets\n",
    "\n",
    "from sklearn.datasets import load_boston # this is the housing data we've used in class\n",
    "from sklearn.datasets import load_iris \n",
    "from sklearn.datasets import load_diabetes \n",
    "from sklearn.datasets import load_digits \n",
    "from sklearn.datasets import load_linnerud \n",
    "\n",
    "import numpy as np\n",
    "\n",
    "# Boston house prices dataset(13x506,reals,regression) \n",
    "boston = load_boston()\n",
    "print( type(boston))\n",
    "print(boston.data.shape)\n",
    "\n",
    "#Irisflowerdataset(4x150,reals,multi-labelclassification)\n",
    "iris = load_iris()\n",
    "print(iris.data.shape)\n",
    "\n",
    "#Diabetesdataset(10x442,reals,regression)\n",
    "diabetes = load_diabetes()\n",
    "print(diabetes.data.shape) \n",
    "\n",
    "#Hand-writtendigitdataset(64x1797,multi-labelclassification)\n",
    "digits = load_digits()\n",
    "print(digits.data.shape) \n",
    "\n",
    "#Linnerudpsychologicalandexercisedataset(3x20,3x20multivariateregression) \n",
    "linnerud = load_linnerud()\n",
    "print(linnerud.data.shape)\n",
    "\n"
   ]
  },
  {
   "cell_type": "markdown",
   "metadata": {},
   "source": [
    "### Additional Online Resource for Machine Learning:\n",
    "\n",
    "- SciKit Learn's own Documentation is very good and includes their own [tutorial](http://scikit-learn.org/stable/tutorial/index.html):\n",
    "\n",
    "- Another usefull SciKit Learn [tutorial](https://github.com/jakevdp/sklearn_tutorial):\n",
    "\n",
    "- [free online book](http://robotics.stanford.edu/people/nilsson/MLBOOK.pdf) by Stanford professor Nils J. Nilsson. *Note: pretty out of date*.\n",
    "\n",
    "\n",
    "\n"
   ]
  },
  {
   "cell_type": "code",
   "execution_count": null,
   "metadata": {
    "collapsed": true
   },
   "outputs": [],
   "source": []
  }
 ],
 "metadata": {
  "kernelspec": {
   "display_name": "Python 3",
   "language": "python",
   "name": "python3"
  },
  "language_info": {
   "codemirror_mode": {
    "name": "ipython",
    "version": 3
   },
   "file_extension": ".py",
   "mimetype": "text/x-python",
   "name": "python",
   "nbconvert_exporter": "python",
   "pygments_lexer": "ipython3",
   "version": "3.7.0"
  }
 },
 "nbformat": 4,
 "nbformat_minor": 1
}
